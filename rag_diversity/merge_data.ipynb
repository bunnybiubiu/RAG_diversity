{
 "cells": [
  {
   "cell_type": "code",
   "execution_count": 1,
   "id": "f6a74f22-f0ea-4ceb-b973-bbf0ee106a11",
   "metadata": {},
   "outputs": [],
   "source": [
    "import json\n",
    "import os\n",
    "import ast\n"
   ]
  },
  {
   "cell_type": "code",
   "execution_count": null,
   "id": "abddcd57-c136-401b-a29d-dceb2166b0a1",
   "metadata": {},
   "outputs": [],
   "source": [
    "'''\n",
    "create clean data for the raw experimental data\n",
    "'''\n",
    "\n",
    "\n",
    "projects = [\"top-k\", \"threshold\"]\n",
    "datasets = [\"NQ\", \"TriviaQA\", \"SQuAD\", \"ASQA\"]\n",
    "num_experiments = {\"top-k\":10, \"threshold\":15}\n",
    "num_files = {\"NQ\": 3, \"TriviaQA\": 5, \"SQuAD\": 3, \"ASQA\": 3}\n",
    "\n",
    "for project in projects:\n",
    "    num_ex = num_experiments[project]\n",
    "    for ds in datasets:\n",
    "        output_folder_path = f\"clean_data/{project}/{ds}\"\n",
    "        output_can_path = os.path.join(output_folder_path, \"cans_list.json\")\n",
    "        output_ref_path = os.path.join(output_folder_path, \"refs.json\")\n",
    "        \n",
    "        os.makedirs(output_folder_path, exist_ok=True)        \n",
    "\n",
    "        cans_list = [[] for _ in range(num_ex)]\n",
    "        refs = []\n",
    "        num_file = num_files[ds]\n",
    "        \n",
    "        for j in range(num_file):\n",
    "            input_folder = f\"{project}_results/{ds}\"\n",
    "            if j:\n",
    "                input_folder = input_folder+f'{j}'\n",
    "            \n",
    "            for i in range(num_ex):\n",
    "                input_file = input_folder+f'/cand_{i}.jsonl'\n",
    "                with open(input_file, \"r\") as file:\n",
    "                    lines = file.readlines()\n",
    "                    cans_list[i].extend(list(map(ast.literal_eval, lines)))\n",
    "                \n",
    "            input_file = input_folder+f'/references.jsonl'\n",
    "            with open(input_file, \"r\") as file:\n",
    "                lines = file.readlines()\n",
    "                refs.extend(list(map(ast.literal_eval, lines)))\n",
    "                \n",
    "        cans_list = [cans[:500] for cans in cans_list]\n",
    "        refs = refs[:500]\n",
    "                \n",
    "        with open(output_can_path, \"w\") as f:\n",
    "            json.dump(cans_list, f, indent=4)\n",
    "            \n",
    "        with open(output_ref_path, \"w\") as f:\n",
    "            json.dump(refs, f, indent=4)"
   ]
  },
  {
   "cell_type": "code",
   "execution_count": null,
   "id": "e865f4f2-5e7a-4513-abc3-36e45dd85771",
   "metadata": {},
   "outputs": [],
   "source": []
  }
 ],
 "metadata": {
  "kernelspec": {
   "display_name": "Python 3 (ipykernel)",
   "language": "python",
   "name": "python3"
  },
  "language_info": {
   "codemirror_mode": {
    "name": "ipython",
    "version": 3
   },
   "file_extension": ".py",
   "mimetype": "text/x-python",
   "name": "python",
   "nbconvert_exporter": "python",
   "pygments_lexer": "ipython3",
   "version": "3.12.2"
  }
 },
 "nbformat": 4,
 "nbformat_minor": 5
}
