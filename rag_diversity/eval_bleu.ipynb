{
 "cells": [
  {
   "cell_type": "code",
   "execution_count": 1,
   "id": "f400cbcf-b15f-44fb-b709-1bdfe6e488d3",
   "metadata": {},
   "outputs": [],
   "source": [
    "import numpy as np\n",
    "from nltk.translate.bleu_score import sentence_bleu, SmoothingFunction\n",
    "from nltk.corpus import stopwords\n"
   ]
  },
  {
   "cell_type": "code",
   "execution_count": 2,
   "id": "8fe895d2-0fb2-4406-a457-aae8742a8ff3",
   "metadata": {},
   "outputs": [
    {
     "name": "stderr",
     "output_type": "stream",
     "text": [
      "[nltk_data] Downloading package stopwords to\n",
      "[nltk_data]     /home/e/e1331099/nltk_data...\n",
      "[nltk_data]   Package stopwords is already up-to-date!\n"
     ]
    },
    {
     "data": {
      "text/plain": [
       "True"
      ]
     },
     "execution_count": 2,
     "metadata": {},
     "output_type": "execute_result"
    }
   ],
   "source": [
    "import nltk\n",
    "nltk.download('stopwords')\n"
   ]
  },
  {
   "cell_type": "code",
   "execution_count": 3,
   "id": "dcdc858c-819c-4ef6-976a-9e0c6a8b6127",
   "metadata": {},
   "outputs": [],
   "source": [
    "\n",
    "class EBleu():\n",
    "    def __init__(self):\n",
    "        self.smoothing_function = SmoothingFunction().method1\n",
    "        self.stop_words = set(stopwords.words('english'))  # Load stop words\n",
    "\n",
    "    def preprocess_sentence(self, sentence):\n",
    "        \"\"\"Preprocess the sentence by removing stop words and handling empty strings.\"\"\"\n",
    "        if sentence == \"\":\n",
    "            return []  # Return empty list for empty string\n",
    "        return [word for word in sentence.lower().split() if word not in self.stop_words]\n",
    "\n",
    "    def calculate_inner_sentence_diversity(self, words):\n",
    "        \"\"\"\n",
    "        Calculate inner-sentence diversity using BLEU score.\n",
    "        This measures how diverse the words/phrases in a sentence are.\n",
    "        \"\"\"\n",
    "        if len(words) < 2:\n",
    "            return 0.0  # Too few words to calculate diversity\n",
    "\n",
    "        total_bleu = 0.0\n",
    "        count = 0\n",
    "\n",
    "        # Calculate BLEU score for all pairs of words/phrases\n",
    "        for i in range(len(words)):\n",
    "            for j in range(i + 1, len(words)):\n",
    "                ref = [words[i]]  # Treat each word as a reference phrase\n",
    "                candidate = [words[j]]  # Treat each word as a candidate phrase\n",
    "                total_bleu += sentence_bleu([ref], candidate, smoothing_function=self.smoothing_function)\n",
    "                count += 1\n",
    "\n",
    "        return total_bleu / count if count > 0 else 0.0\n",
    "\n",
    "    def calculate_inter_sentence_diversity(self, sentences):\n",
    "        \"\"\"\n",
    "        Calculate inter-sentence diversity using BLEU score.\n",
    "        This measures how diverse the sentences are compared to each other.\n",
    "        \"\"\"\n",
    "        if len(sentences) < 2:\n",
    "            return 0.0  # Too few sentences to calculate inter-sentence diversity\n",
    "\n",
    "        total_bleu = 0.0\n",
    "        count = 0\n",
    "\n",
    "        # Calculate BLEU score for all pairs of sentences\n",
    "        for i in range(len(sentences)):\n",
    "            for j in range(i + 1, len(sentences)):\n",
    "                ref = sentences[i]\n",
    "                candidate = sentences[j]\n",
    "                total_bleu += sentence_bleu([ref], candidate, smoothing_function=self.smoothing_function)\n",
    "                count += 1\n",
    "\n",
    "        return total_bleu / count if count > 0 else 0.0\n",
    "    \n",
    "    def calculate_diversities(self, answers):\n",
    "        \"\"\"\n",
    "        Calculate diversity scores (inner and inter sentence diversity) for answers.\n",
    "        \"\"\"\n",
    "        inner_diversities = []\n",
    "        inter_diversities = []\n",
    "        \n",
    "        for answer_set in answers:\n",
    "            answer_set = [self.preprocess_sentence(answer) for answer in answer_set]\n",
    "            answer_set = [answer for answer in answer_set if answer]\n",
    "            if not answer_set:\n",
    "                continue\n",
    "            inner_diversity_scores = [self.calculate_inner_sentence_diversity(answer) for answer in answer_set]\n",
    "            inner_diversity_mean = np.mean(inner_diversity_scores) if inner_diversity_scores else 0.0\n",
    "            inner_diversities.append(inner_diversity_mean)\n",
    "            \n",
    "            inter_diversity = self.calculate_inter_sentence_diversity(answer_set)\n",
    "            inter_diversities.append(inter_diversity)\n",
    "        \n",
    "        inner_diversity_mean = np.mean(inner_diversities)\n",
    "        inter_diversity_mean = np.mean(inter_diversities)\n",
    "        \n",
    "        return inner_diversity_mean, inter_diversity_mean\n",
    "\n",
    "    def cal_scores(self, cans):\n",
    "        # Create separate lists for each score type\n",
    "        inner_diversity_list = []\n",
    "        inter_diversity_list = []\n",
    "\n",
    "        for can_list in cans:            \n",
    "            # Calculate diversity scores\n",
    "            inner_diversity, inter_diversity = self.calculate_diversities(can_list)\n",
    "\n",
    "            # Append the results to the corresponding lists\n",
    "            inner_diversity_list.append(inner_diversity)\n",
    "            inter_diversity_list.append(inter_diversity)\n",
    "\n",
    "        # Return the lists of scores\n",
    "        return inner_diversity_list, inter_diversity_list\n",
    "\n"
   ]
  },
  {
   "cell_type": "code",
   "execution_count": 4,
   "id": "e8dc0ed4-4108-436e-bfba-efece9e32811",
   "metadata": {},
   "outputs": [],
   "source": [
    "answers = [[\n",
    "    [\"The cat is on the mat.\", \"A cat lies on a mat.\", \"The cat rests on the rug.\"],\n",
    "    [\"I enjoy hiking in the mountains.\", \"Hiking is a great activity.\", \"Mountains are perfect for hiking.\"],\n",
    "    [\"The car is fast.\", \"It is a fast car.\", \"The vehicle is quick.\"],\n",
    "    [\"\", \"\", \"\"],\n",
    "    [\"I love playing football.\", \"Football is fun.\", \"Soccer is a great sport.\"]\n",
    "]]\n"
   ]
  },
  {
   "cell_type": "code",
   "execution_count": 5,
   "id": "16e55e94-1675-4e1a-a77b-09a67947d018",
   "metadata": {},
   "outputs": [
    {
     "data": {
      "text/plain": [
       "([0.0], [0.03966548545174611])"
      ]
     },
     "execution_count": 5,
     "metadata": {},
     "output_type": "execute_result"
    }
   ],
   "source": [
    "e = EBleu()\n",
    "e.cal_scores(answers)"
   ]
  },
  {
   "cell_type": "code",
   "execution_count": 6,
   "id": "4b75991a-49f0-4350-8db5-1ae7380a442e",
   "metadata": {},
   "outputs": [],
   "source": [
    "import matplotlib.pyplot as plt\n",
    "import seaborn as sns\n",
    "import pandas as pd\n"
   ]
  },
  {
   "cell_type": "code",
   "execution_count": 10,
   "id": "5c7e44c4-5710-4d48-ae24-d62ea2d16397",
   "metadata": {},
   "outputs": [],
   "source": [
    "projects = [\"threshold\"]\n",
    "project_names = {\"top-k\": \"Top-k Retrieval\", \"threshold\": \"Similarity Threshold Retrieval\"}\n",
    "datasets = [\"NQ\", \"TriviaQA\"]\n",
    "vary_terms = {\"top-k\": \"k\", \"threshold\": \"th\"}\n",
    "vary_values = {(\"top-k\", \"k\"): [0, 1, 2, 3, 5, 10, 15, 20, 30, 40], (\"threshold\", \"th\"): [0, 0.3, 0.5, 0.6, 0.7, 0.75, 0.8, 0.83, 0.85, 0.88, 0.9, 0.92, 0.95, 0.98, 1]}\n",
    "metrics = [\"Inner Diversity\", \"Inter Diversity\"]\n"
   ]
  },
  {
   "cell_type": "code",
   "execution_count": 11,
   "id": "6ef51762-033d-47bf-864f-b94bb888d5d5",
   "metadata": {},
   "outputs": [],
   "source": [
    "eval = EBleu()"
   ]
  },
  {
   "cell_type": "code",
   "execution_count": 12,
   "id": "cb087069-d477-4736-998e-c44fab772841",
   "metadata": {},
   "outputs": [],
   "source": [
    "scores = {}\n",
    "\n",
    "for project in projects:\n",
    "    term = vary_terms[project]\n",
    "    values = vary_values[(project, term)]\n",
    "    scores[project] = {}\n",
    "    for metric in metrics:\n",
    "        scores[project][metric] = []\n",
    "\n",
    "    for ds in datasets:\n",
    "        folder_path = f\"clean_data/{project}/{ds}\"\n",
    "        canlist_path = folder_path+\"/cans_list.json\"\n",
    "        ref_path = folder_path+\"/refs.json\"\n",
    "        \n",
    "        with open(canlist_path, \"r\") as f:\n",
    "            cans_list = json.load(f)\n",
    "        with open(ref_path, \"r\") as f:\n",
    "            refs = json.load(f)\n",
    "        scores_ = eval.cal_scores(cans_list)\n",
    "\n",
    "        for i in range(2):\n",
    "            metric = metrics[i]\n",
    "            score_ = scores_[i]\n",
    "            for j in range(len(values)):\n",
    "                term_value = values[j]\n",
    "                scores[project][metric].append({f'{term}': term_value, f'{metric} Score': score_[j], \"dataset\": ds})\n",
    "        \n",
    "        "
   ]
  },
  {
   "cell_type": "code",
   "execution_count": 13,
   "id": "52c3dc20-36bb-43c1-b2cc-19fe74b04d21",
   "metadata": {},
   "outputs": [],
   "source": [
    "import os\n",
    "\n",
    "os.makedirs(\"bleu\", exist_ok=True)\n",
    "\n",
    "with open(\"bleu/evaluation_results.json\", \"w\") as f:\n",
    "    json.dump(scores, f, indent=4)\n",
    "    "
   ]
  },
  {
   "cell_type": "code",
   "execution_count": 16,
   "id": "d7cec081-6a4b-4297-83b2-f0f64490f8e3",
   "metadata": {},
   "outputs": [
    {
     "data": {
      "image/png": "[encoded data removed]",
      "text/plain": [
       "<Figure size 640x480 with 1 Axes>"
      ]
     },
     "metadata": {},
     "output_type": "display_data"
    }
   ],
   "source": [
    "for project in [\"threshold\"]:\n",
    "    term = vary_terms[project]\n",
    "    name = project_names[project]\n",
    "    for metric in [\"Inter Diversity\"]:\n",
    "        score_data = pd.DataFrame(scores[project][metric])\n",
    "        sns.lineplot(x=f'{term}', y=f'{metric} Score', data=score_data, hue=\"dataset\")\n",
    "        plt.xlabel(\"Similarity Threshold th\")\n",
    "        plt.ylabel(\"BLEU Diversity Score\")\n",
    "        plt.xlim(0,)\n",
    "        plt.title(f'BLEU Diversity Score vs {term} of Similarity Threshold Retrieval')\n",
    "        plt.savefig(f'bleu/{project}_{metric}.png')\n",
    "        plt.show()\n",
    "        "
   ]
  },
  {
   "cell_type": "code",
   "execution_count": 15,
   "id": "46096e73-6e2f-42c1-bb7e-848fed806331",
   "metadata": {},
   "outputs": [
    {
     "name": "stdout",
     "output_type": "stream",
     "text": [
      "BLEU diversity of NQ\n",
      "      th  Inter Diversity Score dataset\n",
      "0   0.00               0.125742      NQ\n",
      "1   0.30               0.122456      NQ\n",
      "2   0.50               0.121736      NQ\n",
      "3   0.60               0.122223      NQ\n",
      "4   0.70               0.131504      NQ\n",
      "5   0.75               0.124308      NQ\n",
      "6   0.80               0.116108      NQ\n",
      "7   0.83               0.130183      NQ\n",
      "8   0.85               0.137480      NQ\n",
      "9   0.88               0.140195      NQ\n",
      "10  0.90               0.149117      NQ\n",
      "11  0.92               0.162685      NQ\n",
      "12  0.95               0.153881      NQ\n",
      "13  0.98               0.157756      NQ\n",
      "14  1.00               0.156679      NQ\n",
      "\n",
      "\n",
      "BLEU diversity of TriviaQA\n",
      "      th  Inter Diversity Score   dataset\n",
      "15  0.00               0.136121  TriviaQA\n",
      "16  0.30               0.129238  TriviaQA\n",
      "17  0.50               0.130864  TriviaQA\n",
      "18  0.60               0.128175  TriviaQA\n",
      "19  0.70               0.132971  TriviaQA\n",
      "20  0.75               0.133835  TriviaQA\n",
      "21  0.80               0.132447  TriviaQA\n",
      "22  0.83               0.137410  TriviaQA\n",
      "23  0.85               0.127423  TriviaQA\n",
      "24  0.88               0.147986  TriviaQA\n",
      "25  0.90               0.161981  TriviaQA\n",
      "26  0.92               0.145361  TriviaQA\n",
      "27  0.95               0.146446  TriviaQA\n",
      "28  0.98               0.150480  TriviaQA\n",
      "29  1.00               0.152614  TriviaQA\n",
      "\n",
      "\n"
     ]
    }
   ],
   "source": [
    "for ds in datasets:\n",
    "    print(\"BLEU diversity of \"+ds)\n",
    "    print(score_data[score_data[\"dataset\"]==ds])\n",
    "    print('\\n')"
   ]
  },
  {
   "cell_type": "code",
   "execution_count": null,
   "id": "dd05310e-505d-44d6-8325-d560ae3c2e5e",
   "metadata": {},
   "outputs": [],
   "source": []
  }
 ],
 "metadata": {
  "kernelspec": {
   "display_name": "Python 3 (ipykernel)",
   "language": "python",
   "name": "python3"
  },
  "language_info": {
   "codemirror_mode": {
    "name": "ipython",
    "version": 3
   },
   "file_extension": ".py",
   "mimetype": "text/x-python",
   "name": "python",
   "nbconvert_exporter": "python",
   "pygments_lexer": "ipython3",
   "version": "3.12.2"
  }
 },
 "nbformat": 4,
 "nbformat_minor": 5
}
