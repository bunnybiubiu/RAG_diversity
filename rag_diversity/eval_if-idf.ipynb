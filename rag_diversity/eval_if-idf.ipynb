{
 "cells": [
  {
   "cell_type": "code",
   "execution_count": 1,
   "id": "8a258e1c-b5da-4dad-a1b9-8b041f5586d3",
   "metadata": {},
   "outputs": [],
   "source": [
    "import numpy as np\n",
    "from sklearn.feature_extraction.text import TfidfVectorizer\n",
    "from rouge_score import rouge_scorer\n",
    "from sklearn.metrics.pairwise import cosine_similarity\n",
    "import os\n",
    "\n",
    "class ETfidf():\n",
    "    def __init__(self):\n",
    "        self.vectorizer = TfidfVectorizer(stop_words='english')\n",
    "\n",
    "    def preprocess_sentence(self, sentence):\n",
    "        \"\"\"Preprocess the sentence by removing empty strings and stop words.\"\"\"\n",
    "        if sentence == \"\":\n",
    "            return ''  # Return empty string for empty input\n",
    "        return sentence.lower().strip()\n",
    "\n",
    "    def calculate_inner_sentence_diversity(self, sentence):\n",
    "        \"\"\"\n",
    "        Calculate inner-sentence diversity using TF-IDF cosine similarity.\n",
    "        This measures how diverse the words in a sentence are.\n",
    "        \"\"\"\n",
    "        # Preprocess the sentence to ensure no empty strings\n",
    "        words = sentence.split()  # Split into words (you can adjust the tokenizer)\n",
    "        \n",
    "        if len(words) < 2:\n",
    "            return 0.0  # Too few words to calculate diversity\n",
    "\n",
    "        # Calculate TF-IDF vectors for the words in the sentence\n",
    "        try:\n",
    "            tfidf_matrix = self.vectorizer.fit_transform(words)\n",
    "        except:\n",
    "            return 0.0\n",
    "        \n",
    "        # Compute cosine similarities between each pair of words\n",
    "        cosine_similarities = cosine_similarity(tfidf_matrix)\n",
    "\n",
    "        # We want to consider only the upper triangular part (pairs of words)\n",
    "        total_similarity = 0.0\n",
    "        count = 0\n",
    "\n",
    "        for i in range(len(words)):\n",
    "            for j in range(i + 1, len(words)):\n",
    "                total_similarity += cosine_similarities[i, j]\n",
    "                count += 1\n",
    "\n",
    "        return 1 - (total_similarity / count) if count > 0 else 0.0  # Return the \"diversity\" as the inverse of similarity\n",
    "\n",
    "    def calculate_inter_sentence_diversity(self, sentences):\n",
    "        \"\"\"\n",
    "        Calculate inter-sentence diversity using TF-IDF cosine similarity.\n",
    "        This measures how diverse the sentences are compared to each other.\n",
    "        \"\"\"\n",
    "        if len(sentences) < 2:\n",
    "            return 0.0  # Too few sentences to calculate inter-sentence diversity\n",
    "\n",
    "        # Calculate TF-IDF vectors for each sentence\n",
    "        try:\n",
    "            tfidf_matrix = self.vectorizer.fit_transform(sentences)\n",
    "        except:\n",
    "            return 0.0\n",
    "\n",
    "        # Compute cosine similarities between each pair of sentences\n",
    "        cosine_similarities = cosine_similarity(tfidf_matrix)\n",
    "\n",
    "        # We want to consider only the upper triangular part (pairs of sentences)\n",
    "        total_similarity = 0.0\n",
    "        count = 0\n",
    "\n",
    "        for i in range(len(sentences)):\n",
    "            for j in range(i + 1, len(sentences)):\n",
    "                total_similarity += cosine_similarities[i, j]\n",
    "                count += 1\n",
    "\n",
    "        return 1 - (total_similarity / count) if count > 0 else 0.0  # Return the \"diversity\" as the inverse of similarity\n",
    "\n",
    "    def calculate_diversities(self, answers):\n",
    "        \"\"\"\n",
    "        Calculate diversity scores (inner and inter sentence diversity) for answers.\n",
    "        \"\"\"\n",
    "        inner_diversities = []\n",
    "        inter_diversities = []\n",
    "        \n",
    "        for answer_set in answers:\n",
    "            answer_set = [self.preprocess_sentence(answer) for answer in answer_set]\n",
    "            answer_set = [answer for answer in answer_set if answer]\n",
    "            if not answer_set:\n",
    "                continue\n",
    "            inner_diversity_scores = [self.calculate_inner_sentence_diversity(answer) for answer in answer_set]\n",
    "            inner_diversity_mean = np.mean(inner_diversity_scores) if inner_diversity_scores else 0.0\n",
    "            inner_diversities.append(inner_diversity_mean)\n",
    "            \n",
    "            inter_diversity = self.calculate_inter_sentence_diversity(answer_set)\n",
    "            inter_diversities.append(inter_diversity)\n",
    "        \n",
    "        inner_diversity_mean = np.mean(inner_diversities)\n",
    "        inter_diversity_mean = np.mean(inter_diversities)\n",
    "        \n",
    "        return inner_diversity_mean, inter_diversity_mean\n",
    "\n",
    "    def cal_scores(self, cans):\n",
    "        # Create separate lists for each score type\n",
    "        inner_diversity_list = []\n",
    "        inter_diversity_list = []\n",
    "\n",
    "        for can_list in cans:            \n",
    "            # Calculate diversity scores\n",
    "            inner_diversity, inter_diversity = self.calculate_diversities(can_list)\n",
    "\n",
    "            # Append the results to the corresponding lists\n",
    "            inner_diversity_list.append(inner_diversity)\n",
    "            inter_diversity_list.append(inter_diversity)\n",
    "\n",
    "        # Return the lists of scores\n",
    "        return inner_diversity_list, inter_diversity_list\n"
   ]
  },
  {
   "cell_type": "code",
   "execution_count": 2,
   "id": "f275f36e-74ab-4f3b-82f9-ad682e3ddbc7",
   "metadata": {},
   "outputs": [],
   "source": [
    "answers = [[\n",
    "    [\"The cat is on the mat.\", \"A cat lies on a mat.\", \"The cat rests on the rug.\"],\n",
    "    [\"I enjoy hiking in the mountains.\", \"Hiking is a great activity.\", \"Mountains are perfect for hiking.\"],\n",
    "    [\"The car is fast.\", \"It is a fast car.\", \"The vehicle is quick.\"],\n",
    "    [\"\", \"\", \"\"],\n",
    "    [\"I love playing football.\", \"Football is fun.\", \"Soccer is a great sport.\"]\n",
    "]]\n",
    "\n",
    "references = [\n",
    "    [\"The cat is resting on the mat.\", \"A cat is lying on a mat.\", \"The cat is relaxing on the rug.\"],\n",
    "    [\"I love hiking in the mountains.\", \"Hiking is one of my favorite activities.\", \"Mountains are great for hiking.\"],\n",
    "    [\"The car moves quickly.\", \"It is a very fast car.\", \"The vehicle moves at high speed.\"],\n",
    "    [\"\", \"\", \"\"],\n",
    "    [\"I enjoy playing football.\", \"Football is very exciting.\", \"Soccer is a popular sport.\"]\n",
    "]\n"
   ]
  },
  {
   "cell_type": "code",
   "execution_count": 3,
   "id": "542eac33-db82-488a-8e00-93090fe4e5fc",
   "metadata": {},
   "outputs": [
    {
     "data": {
      "text/plain": [
       "([1.0], [0.7341927835889863])"
      ]
     },
     "execution_count": 3,
     "metadata": {},
     "output_type": "execute_result"
    }
   ],
   "source": [
    "e = ETfidf()\n",
    "e.cal_scores(answers)"
   ]
  },
  {
   "cell_type": "code",
   "execution_count": 4,
   "id": "4977c16e-cc2a-475b-92c1-7878ff76d80e",
   "metadata": {},
   "outputs": [],
   "source": [
    "import matplotlib.pyplot as plt\n",
    "import seaborn as sns\n",
    "import pandas as pd\n"
   ]
  },
  {
   "cell_type": "code",
   "execution_count": 5,
   "id": "0d0c841a-d319-4063-af59-778549e08197",
   "metadata": {},
   "outputs": [],
   "source": [
    "projects = [\"threshold\"]\n",
    "project_names = {\"top-k\": \"Top-k Retrieval\", \"threshold\": \"Similarity Threshold Retrieval\"}\n",
    "datasets = [\"NQ\", \"TriviaQA\"]\n",
    "vary_terms = {\"top-k\": \"k\", \"threshold\": \"th\"}\n",
    "vary_values = {(\"top-k\", \"k\"): [0, 1, 2, 3, 5, 10, 15, 20, 30, 40], (\"threshold\", \"th\"): [0, 0.3, 0.5, 0.6, 0.7, 0.75, 0.8, 0.83, 0.85, 0.88, 0.9, 0.92, 0.95, 0.98, 1]}\n",
    "metrics = [\"Inner Diversity\", \"Inter Diversity\"]\n"
   ]
  },
  {
   "cell_type": "code",
   "execution_count": 6,
   "id": "ada346ab-9f8b-4bc3-8563-efb6bee7f399",
   "metadata": {},
   "outputs": [],
   "source": [
    "eval = ETfidf()"
   ]
  },
  {
   "cell_type": "code",
   "execution_count": 7,
   "id": "b47fe607-4494-45b6-93d6-63afcf8a65ab",
   "metadata": {},
   "outputs": [],
   "source": [
    "scores = {}\n",
    "\n",
    "for project in projects:\n",
    "    term = vary_terms[project]\n",
    "    values = vary_values[(project, term)]\n",
    "    scores[project] = {}\n",
    "    for metric in metrics:\n",
    "        scores[project][metric] = []\n",
    "\n",
    "    for ds in datasets:\n",
    "        folder_path = f\"clean_data/{project}/{ds}\"\n",
    "        canlist_path = folder_path+\"/cans_list.json\"\n",
    "        ref_path = folder_path+\"/refs.json\"\n",
    "        \n",
    "        with open(canlist_path, \"r\") as f:\n",
    "            cans_list = json.load(f)\n",
    "        with open(ref_path, \"r\") as f:\n",
    "            refs = json.load(f)\n",
    "        scores_ = eval.cal_scores(cans_list)\n",
    "\n",
    "        for i in range(2):\n",
    "            metric = metrics[i]\n",
    "            score_ = scores_[i]\n",
    "            for j in range(len(values)):\n",
    "                term_value = values[j]\n",
    "                scores[project][metric].append({f'{term}': term_value, f'{metric} Score': score_[j], \"dataset\": ds})\n",
    "        \n",
    "        "
   ]
  },
  {
   "cell_type": "code",
   "execution_count": 9,
   "id": "27eb0e9f-aab7-4977-aaa1-720a46628b37",
   "metadata": {},
   "outputs": [],
   "source": [
    "import os\n",
    "\n",
    "os.makedirs(\"tf-idf\", exist_ok=True)\n",
    "\n",
    "with open(\"tf-idf/evaluation_results.json\", \"a\") as f:\n",
    "    json.dump(scores, f, indent=4)"
   ]
  },
  {
   "cell_type": "code",
   "execution_count": 15,
   "id": "1ba957fa-37b3-488a-9126-c46940e46017",
   "metadata": {},
   "outputs": [
    {
     "data": {
      "image/png": "[encoded data removed]",
      "text/plain": [
       "<Figure size 640x480 with 1 Axes>"
      ]
     },
     "metadata": {},
     "output_type": "display_data"
    }
   ],
   "source": [
    "for project in [\"threshold\"]:\n",
    "    term = vary_terms[project]\n",
    "    name = project_names[project]\n",
    "    for metric in [\"Inter Diversity\"]:\n",
    "        score_data = pd.DataFrame(scores[project][metric])\n",
    "        sns.lineplot(x=f'{term}', y=f'{metric} Score', data=score_data, hue=\"dataset\")\n",
    "        plt.xlim(0,)\n",
    "        plt.xlabel(\"Similarity Threshold th\")\n",
    "        plt.ylabel(\"TF-IDF Diversity Score\")\n",
    "        plt.title(f'TF-IDF Diversity Score vs {term} of Similarity Threshold Retrieval')\n",
    "        plt.savefig(f'tf-idf/{project}_{metric}.png')\n",
    "        plt.show()"
   ]
  },
  {
   "cell_type": "code",
   "execution_count": 16,
   "id": "e03c8923-03e3-47e3-9e14-c540dead599a",
   "metadata": {},
   "outputs": [
    {
     "name": "stdout",
     "output_type": "stream",
     "text": [
      "NQ\n",
      "[0.69916812 0.70774625 0.69579931 0.71294863 0.70151655 0.69123096\n",
      " 0.70388081 0.6974208  0.67342191 0.67907929 0.6564765  0.6532082\n",
      " 0.6453102  0.64834758 0.64237602]\n",
      "\n",
      "\n",
      "TriviaQA\n",
      "[0.46967562 0.47120097 0.4589243  0.4556042  0.47867965 0.47494627\n",
      " 0.46322599 0.45513801 0.4773248  0.4397033  0.43503927 0.4485053\n",
      " 0.42820148 0.44508024 0.43898438]\n",
      "\n",
      "\n"
     ]
    }
   ],
   "source": [
    "for ds in datasets:\n",
    "    print(ds)\n",
    "    print(score_data[score_data[\"dataset\"]==ds][\"Inter Diversity Score\"].values)\n",
    "    print('\\n')"
   ]
  },
  {
   "cell_type": "code",
   "execution_count": 14,
   "id": "7f75fc07-b29a-48d5-b1ab-738349398766",
   "metadata": {},
   "outputs": [
    {
     "name": "stdout",
     "output_type": "stream",
     "text": [
      "TF-IDF diversity of NQ\n",
      "      th  Inter Diversity Score dataset\n",
      "0   0.00               0.699168      NQ\n",
      "1   0.30               0.707746      NQ\n",
      "2   0.50               0.695799      NQ\n",
      "3   0.60               0.712949      NQ\n",
      "4   0.70               0.701517      NQ\n",
      "5   0.75               0.691231      NQ\n",
      "6   0.80               0.703881      NQ\n",
      "7   0.83               0.697421      NQ\n",
      "8   0.85               0.673422      NQ\n",
      "9   0.88               0.679079      NQ\n",
      "10  0.90               0.656476      NQ\n",
      "11  0.92               0.653208      NQ\n",
      "12  0.95               0.645310      NQ\n",
      "13  0.98               0.648348      NQ\n",
      "14  1.00               0.642376      NQ\n",
      "\n",
      "\n",
      "TF-IDF diversity of TriviaQA\n",
      "      th  Inter Diversity Score   dataset\n",
      "15  0.00               0.469676  TriviaQA\n",
      "16  0.30               0.471201  TriviaQA\n",
      "17  0.50               0.458924  TriviaQA\n",
      "18  0.60               0.455604  TriviaQA\n",
      "19  0.70               0.478680  TriviaQA\n",
      "20  0.75               0.474946  TriviaQA\n",
      "21  0.80               0.463226  TriviaQA\n",
      "22  0.83               0.455138  TriviaQA\n",
      "23  0.85               0.477325  TriviaQA\n",
      "24  0.88               0.439703  TriviaQA\n",
      "25  0.90               0.435039  TriviaQA\n",
      "26  0.92               0.448505  TriviaQA\n",
      "27  0.95               0.428201  TriviaQA\n",
      "28  0.98               0.445080  TriviaQA\n",
      "29  1.00               0.438984  TriviaQA\n",
      "\n",
      "\n"
     ]
    }
   ],
   "source": [
    "score_data = pd.DataFrame(scores[\"threshold\"][\"Inter Diversity\"])\n",
    "\n",
    "for ds in datasets:\n",
    "    print(\"TF-IDF diversity of \"+ds)\n",
    "    print(score_data[score_data[\"dataset\"]==ds])\n",
    "    print('\\n')"
   ]
  },
  {
   "cell_type": "code",
   "execution_count": null,
   "id": "5e38a2b3-c849-438d-bd22-37951f9261ee",
   "metadata": {},
   "outputs": [],
   "source": []
  }
 ],
 "metadata": {
  "kernelspec": {
   "display_name": "Python 3 (ipykernel)",
   "language": "python",
   "name": "python3"
  },
  "language_info": {
   "codemirror_mode": {
    "name": "ipython",
    "version": 3
   },
   "file_extension": ".py",
   "mimetype": "text/x-python",
   "name": "python",
   "nbconvert_exporter": "python",
   "pygments_lexer": "ipython3",
   "version": "3.12.2"
  }
 },
 "nbformat": 4,
 "nbformat_minor": 5
}
